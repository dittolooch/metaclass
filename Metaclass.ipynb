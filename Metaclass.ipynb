{
 "cells": [
  {
   "cell_type": "markdown",
   "metadata": {},
   "source": [
    "## Our target\n",
    "\n",
    "```python\n",
    "class User(Base):\n",
    "    id: int\n",
    "    name: str\n",
    "\n",
    "user = User(id='123', name='john')\n",
    "print(user.id)\n",
    "# 123 -> this is an int\n",
    "print(user.name)\n",
    "# john -> this is a str\n",
    "\n",
    "try:\n",
    "    user.name = 123\n",
    "except Exception as e:\n",
    "    print(e)\n",
    "```"
   ]
  },
  {
   "cell_type": "markdown",
   "metadata": {},
   "source": [
    "#### \\_\\_annotations\\_\\_ ?"
   ]
  },
  {
   "cell_type": "code",
   "execution_count": null,
   "metadata": {},
   "outputs": [],
   "source": [
    "class User:\n",
    "    id: int\n",
    "    name: str"
   ]
  },
  {
   "cell_type": "code",
   "execution_count": null,
   "metadata": {},
   "outputs": [],
   "source": [
    "User.__annotations__"
   ]
  },
  {
   "cell_type": "markdown",
   "metadata": {},
   "source": [
    "#### Let's give it an \\_\\_init\\_\\_ method."
   ]
  },
  {
   "cell_type": "code",
   "execution_count": null,
   "metadata": {},
   "outputs": [],
   "source": [
    "class BaseModel:\n",
    "    def __init__(self, **kwargs):\n",
    "        for key, value in kwargs.items():\n",
    "            setattr(self, key, value)\n",
    "\n",
    "class User(BaseModel):\n",
    "    id: int\n",
    "    name: str\n",
    "        \n",
    "user = User(id=123, name=\"john\")"
   ]
  },
  {
   "cell_type": "code",
   "execution_count": null,
   "metadata": {},
   "outputs": [],
   "source": [
    "user.id"
   ]
  },
  {
   "cell_type": "code",
   "execution_count": null,
   "metadata": {},
   "outputs": [],
   "source": [
    "user.name"
   ]
  },
  {
   "cell_type": "code",
   "execution_count": null,
   "metadata": {},
   "outputs": [],
   "source": []
  },
  {
   "cell_type": "markdown",
   "metadata": {},
   "source": [
    "#### There's no type validations!"
   ]
  },
  {
   "cell_type": "markdown",
   "metadata": {},
   "source": [
    "-"
   ]
  },
  {
   "cell_type": "markdown",
   "metadata": {},
   "source": [
    "-"
   ]
  },
  {
   "cell_type": "markdown",
   "metadata": {},
   "source": [
    "#### Introducing Metaclass\n",
    "* type(class_name, base_classes, attributes)"
   ]
  },
  {
   "cell_type": "code",
   "execution_count": null,
   "metadata": {},
   "outputs": [],
   "source": [
    "class User:\n",
    "    id=1\n",
    "    name=\"john\"\n",
    "User.__dict__"
   ]
  },
  {
   "cell_type": "code",
   "execution_count": null,
   "metadata": {},
   "outputs": [],
   "source": [
    "User2 = type(\"User\", (), {'id':1, 'name':'john'})\n",
    "User2.__dict__"
   ]
  },
  {
   "cell_type": "markdown",
   "metadata": {},
   "source": [
    "#### Custom Metaclass"
   ]
  },
  {
   "cell_type": "code",
   "execution_count": null,
   "metadata": {},
   "outputs": [],
   "source": [
    "class MyMetaClass(type):\n",
    "    def __new__(metacls, class_name, base_classes, attributes):\n",
    "        print(f\"{class_name} has attributes {attributes}\")\n",
    "        print(attributes)\n",
    "        return super().__new__(metacls, class_name, base_classes, attributes)"
   ]
  },
  {
   "cell_type": "code",
   "execution_count": null,
   "metadata": {},
   "outputs": [],
   "source": [
    "class User3(metaclass=MyMetaClass):\n",
    "    id=2\n",
    "    name=\"john\""
   ]
  },
  {
   "cell_type": "markdown",
   "metadata": {},
   "source": [
    "### Do you remember descriptors?\n",
    "### We want to validate data as it is 'set'"
   ]
  },
  {
   "cell_type": "code",
   "execution_count": null,
   "metadata": {},
   "outputs": [],
   "source": [
    "class Descriptor:\n",
    "    registry = {}\n",
    "    def __init__(self, name, data_type):\n",
    "        self.name = name\n",
    "        self.data = data_type()\n",
    "        self.data_type = data_type\n",
    "    def __get__(self, instance, cls):\n",
    "        return self.data\n",
    "    def __set__(self, instance, value):\n",
    "        ## we want to validate data as it is set\n",
    "        self.data = value\n",
    "\n",
    "class MyMetaClass(type):\n",
    "    def __new__(metacls, class_name, base_classes, attributes):\n",
    "        annotations = attributes.get('__annotations__',{})\n",
    "        for name, data_type in annotations.items():\n",
    "            attributes[name] = Descriptor(name=name, data_type=data_type)\n",
    "        return super().__new__(metacls, class_name, base_classes, attributes)\n",
    "    \n",
    "class User3(metaclass=MyMetaClass):\n",
    "    id:int\n",
    "    name:str"
   ]
  },
  {
   "cell_type": "code",
   "execution_count": null,
   "metadata": {},
   "outputs": [],
   "source": [
    "User3.__dict__"
   ]
  },
  {
   "cell_type": "code",
   "execution_count": null,
   "metadata": {},
   "outputs": [],
   "source": [
    "user = User3()\n",
    "user.name = \"john\"\n",
    "user.id = 3"
   ]
  },
  {
   "cell_type": "code",
   "execution_count": null,
   "metadata": {},
   "outputs": [],
   "source": [
    "user.name"
   ]
  },
  {
   "cell_type": "code",
   "execution_count": null,
   "metadata": {},
   "outputs": [],
   "source": [
    "user.id"
   ]
  },
  {
   "cell_type": "code",
   "execution_count": null,
   "metadata": {},
   "outputs": [],
   "source": []
  },
  {
   "cell_type": "markdown",
   "metadata": {},
   "source": [
    "### Let's validate!"
   ]
  },
  {
   "cell_type": "code",
   "execution_count": null,
   "metadata": {},
   "outputs": [],
   "source": [
    "class Descriptor:\n",
    "    registry = {}\n",
    "    def __init__(self, name, data_type):\n",
    "        self.name = name\n",
    "        self.data = data_type()\n",
    "        self.data_type = data_type\n",
    "    def __get__(self, instance, cls):\n",
    "        return self.data\n",
    "    def __set__(self, instance, value):\n",
    "        try:\n",
    "            self.data = self.data_type(value)\n",
    "        except:\n",
    "            raise Exception(f\"{instance}.{self.name} is of type {self.data_type}, '{value}' of {type(value)} is given\")\n",
    "\n",
    "class MyMetaClass(type):\n",
    "    def __new__(metacls, class_name, base_classes, attributes):\n",
    "        annotations = attributes.get('__annotations__',{})\n",
    "        for name, data_type in annotations.items():\n",
    "            attributes[name] = Descriptor(name=name, data_type=data_type)\n",
    "        return super().__new__(metacls, class_name, base_classes, attributes)\n",
    "    \n",
    "class User4(metaclass=MyMetaClass):\n",
    "    id:int\n",
    "    name:str"
   ]
  },
  {
   "cell_type": "code",
   "execution_count": null,
   "metadata": {},
   "outputs": [],
   "source": [
    "user = User4()"
   ]
  },
  {
   "cell_type": "code",
   "execution_count": null,
   "metadata": {},
   "outputs": [],
   "source": [
    "user.name = 123\n",
    "user.name"
   ]
  },
  {
   "cell_type": "code",
   "execution_count": null,
   "metadata": {},
   "outputs": [],
   "source": [
    "user.id = \"999\"\n",
    "user.id"
   ]
  },
  {
   "cell_type": "code",
   "execution_count": null,
   "metadata": {},
   "outputs": [],
   "source": [
    "user.id = \"can't be cast as int\""
   ]
  },
  {
   "cell_type": "markdown",
   "metadata": {},
   "source": [
    "### Final touch: the init"
   ]
  },
  {
   "cell_type": "code",
   "execution_count": null,
   "metadata": {},
   "outputs": [],
   "source": [
    "class Descriptor:\n",
    "    registry = {}\n",
    "    def __init__(self, name, data_type):\n",
    "        self.name = name\n",
    "        self.data = data_type()\n",
    "        self.data_type = data_type\n",
    "    def __get__(self, instance, cls):\n",
    "        return self.data\n",
    "    def __set__(self, instance, value):\n",
    "        try:\n",
    "            self.data = self.data_type(value)\n",
    "        except:\n",
    "            raise Exception(f\"{instance}.{self.name} is of type {self.data_type}, '{value}' of {type(value)} is given\")\n",
    "\n",
    "class MyMetaClass(type):\n",
    "    def __new__(metacls, class_name, base_classes, attributes):\n",
    "        annotations = attributes.get('__annotations__',{})\n",
    "        for name, data_type in annotations.items():\n",
    "            attributes[name] = Descriptor(name=name, data_type=data_type)\n",
    "        return super().__new__(metacls, class_name, base_classes, attributes)\n",
    "class Base(metaclass=MyMetaClass):\n",
    "    def __init__(self, **kwargs):\n",
    "        for key, value in kwargs.items():\n",
    "            setattr(self, key, value)\n",
    "class User5(Base):\n",
    "    id:int\n",
    "    name:str"
   ]
  },
  {
   "cell_type": "code",
   "execution_count": null,
   "metadata": {},
   "outputs": [],
   "source": [
    "user = User5(id=\"1\",name=99876)"
   ]
  },
  {
   "cell_type": "code",
   "execution_count": null,
   "metadata": {},
   "outputs": [],
   "source": [
    "user.id\n"
   ]
  },
  {
   "cell_type": "code",
   "execution_count": null,
   "metadata": {},
   "outputs": [],
   "source": [
    "user.name"
   ]
  },
  {
   "cell_type": "code",
   "execution_count": null,
   "metadata": {},
   "outputs": [],
   "source": [
    "user.id = \"something\""
   ]
  },
  {
   "cell_type": "markdown",
   "metadata": {},
   "source": [
    "### Your turn! Could you make the code work?\n",
    "```python\n",
    "class InternalUser(Base):\n",
    "    first_name = Column(str)\n",
    "    last_name = Column(str)\n",
    "    is_active = Column(bool)\n",
    "\n",
    "user = InternalUser(first_name=\"john\", last_name=\"peter\", is_active = True)\n",
    "print(user.first_name)\n",
    "# john\n",
    "print(user.last_name)\n",
    "# peter\n",
    "print(user.is_active)\n",
    "# True\n",
    "user.is_active = False\n",
    "print(user.is_active)\n",
    "# False\n",
    "```"
   ]
  },
  {
   "cell_type": "code",
   "execution_count": null,
   "metadata": {},
   "outputs": [],
   "source": [
    "class Column:\n",
    "    pass\n"
   ]
  },
  {
   "cell_type": "markdown",
   "metadata": {},
   "source": [
    "#  \n",
    "#  \n",
    "#  \n",
    "#  \n",
    "#  \n",
    "#  \n",
    "#  \n",
    "#  \n",
    "#  \n",
    "#  \n",
    "#  \n",
    "#  \n",
    "#  \n",
    "#  \n",
    "#  \n",
    "#  \n",
    "#  \n",
    "#  \n",
    "#  \n",
    "#  \n",
    "#  \n",
    "#  \n",
    "#  \n",
    "#  \n",
    "#  \n",
    "#  \n",
    "#  \n",
    "#  \n"
   ]
  },
  {
   "cell_type": "markdown",
   "metadata": {},
   "source": [
    "# Solution"
   ]
  },
  {
   "cell_type": "code",
   "execution_count": null,
   "metadata": {},
   "outputs": [],
   "source": [
    "class Column:\n",
    "    def __init__(self, data_type):\n",
    "        self.name = None\n",
    "        self.data = data_type()\n",
    "        self.data_type = data_type\n",
    "    def __get__(self, instance, cls):\n",
    "        return self.data\n",
    "    def __set__(self, instance, value):\n",
    "        if isinstance(value, self.data_type):\n",
    "            self.data = value\n",
    "        else:\n",
    "            raise Exception(f\"{instance}.{self.name} is of type {self.data_type}, {value} of {type(value)} is given\")\n",
    "\n",
    "# class MyMetaClass(type):\n",
    "#     def __new__(metacls, class_name, base_classes, attributes):\n",
    "#         for attribute_name, attribute in attributes.items():\n",
    "#             if isinstance(attribute, Column):\n",
    "#                 attribute.name = attribute_name\n",
    "#         return super().__new__(metacls, class_name, base_classes, attributes)\n",
    "    \n",
    "class Base():\n",
    "    def __init__(self, **kwargs):\n",
    "        for key, value in kwargs.items():\n",
    "            setattr(self, key, value)\n",
    "\n",
    "class InternalUser(Base):\n",
    "    first_name = Column(str)\n",
    "    last_name = Column(str)\n",
    "    is_active = Column(bool)"
   ]
  },
  {
   "cell_type": "code",
   "execution_count": null,
   "metadata": {},
   "outputs": [],
   "source": [
    "user = InternalUser(first_name=\"john\", last_name=\"peter\", is_active = True)\n",
    "print(user.first_name)\n",
    "# john\n",
    "print(user.last_name)\n",
    "# peter\n",
    "print(user.is_active)\n",
    "# True\n",
    "user.is_active = False\n",
    "print(user.is_active)"
   ]
  },
  {
   "cell_type": "code",
   "execution_count": null,
   "metadata": {},
   "outputs": [],
   "source": []
  }
 ],
 "metadata": {
  "kernelspec": {
   "display_name": "Python 3",
   "language": "python",
   "name": "python3"
  },
  "language_info": {
   "codemirror_mode": {
    "name": "ipython",
    "version": 3
   },
   "file_extension": ".py",
   "mimetype": "text/x-python",
   "name": "python",
   "nbconvert_exporter": "python",
   "pygments_lexer": "ipython3",
   "version": "3.7.2"
  }
 },
 "nbformat": 4,
 "nbformat_minor": 4
}
