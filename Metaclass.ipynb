{
 "cells": [
  {
   "cell_type": "markdown",
   "metadata": {},
   "source": [
    "#### \\_\\_annotations\\_\\_ ?"
   ]
  },
  {
   "cell_type": "code",
   "execution_count": 118,
   "metadata": {},
   "outputs": [],
   "source": [
    "class User:\n",
    "    id: int\n",
    "    name: str\n",
    "    something: \"some random note\""
   ]
  },
  {
   "cell_type": "code",
   "execution_count": 119,
   "metadata": {},
   "outputs": [
    {
     "data": {
      "text/plain": [
       "{'id': int, 'name': str, 'something': 'some random note'}"
      ]
     },
     "execution_count": 119,
     "metadata": {},
     "output_type": "execute_result"
    }
   ],
   "source": [
    "User.__annotations__"
   ]
  },
  {
   "cell_type": "markdown",
   "metadata": {},
   "source": [
    "#### Let's give it an \\_\\_init\\_\\_ method."
   ]
  },
  {
   "cell_type": "code",
   "execution_count": 120,
   "metadata": {},
   "outputs": [],
   "source": [
    "class BaseModel:\n",
    "    def __init__(self, **kwargs):\n",
    "        for key, value in kwargs.items():\n",
    "            setattr(self, key, value)\n",
    "\n",
    "class User(BaseModel):\n",
    "    id: int\n",
    "    name: str\n",
    "    is_active:bool\n",
    "        \n",
    "user = User(id=123, name=\"john\", is_active=\"yes\")"
   ]
  },
  {
   "cell_type": "code",
   "execution_count": 121,
   "metadata": {},
   "outputs": [
    {
     "data": {
      "text/plain": [
       "123"
      ]
     },
     "execution_count": 121,
     "metadata": {},
     "output_type": "execute_result"
    }
   ],
   "source": [
    "user.id"
   ]
  },
  {
   "cell_type": "code",
   "execution_count": 122,
   "metadata": {},
   "outputs": [
    {
     "data": {
      "text/plain": [
       "'john'"
      ]
     },
     "execution_count": 122,
     "metadata": {},
     "output_type": "execute_result"
    }
   ],
   "source": [
    "user.name"
   ]
  },
  {
   "cell_type": "code",
   "execution_count": 123,
   "metadata": {},
   "outputs": [
    {
     "data": {
      "text/plain": [
       "'yes'"
      ]
     },
     "execution_count": 123,
     "metadata": {},
     "output_type": "execute_result"
    }
   ],
   "source": [
    "user.is_active"
   ]
  },
  {
   "cell_type": "markdown",
   "metadata": {},
   "source": [
    "#### There's no type validations!"
   ]
  },
  {
   "cell_type": "markdown",
   "metadata": {},
   "source": [
    "-"
   ]
  },
  {
   "cell_type": "markdown",
   "metadata": {},
   "source": [
    "-"
   ]
  },
  {
   "cell_type": "markdown",
   "metadata": {},
   "source": [
    "#### Introducing Metaclass\n",
    "* type(class_name, base_classes, attributes)"
   ]
  },
  {
   "cell_type": "code",
   "execution_count": 124,
   "metadata": {},
   "outputs": [
    {
     "data": {
      "text/plain": [
       "mappingproxy({'__module__': '__main__',\n",
       "              'id': 1,\n",
       "              'name': 'john',\n",
       "              'is_active': True,\n",
       "              '__dict__': <attribute '__dict__' of 'User' objects>,\n",
       "              '__weakref__': <attribute '__weakref__' of 'User' objects>,\n",
       "              '__doc__': None})"
      ]
     },
     "execution_count": 124,
     "metadata": {},
     "output_type": "execute_result"
    }
   ],
   "source": [
    "class User:\n",
    "    id=1\n",
    "    name=\"john\"\n",
    "    is_active = True\n",
    "User.__dict__"
   ]
  },
  {
   "cell_type": "code",
   "execution_count": 125,
   "metadata": {},
   "outputs": [
    {
     "data": {
      "text/plain": [
       "mappingproxy({'id': 1,\n",
       "              'name': 'john',\n",
       "              'is_active': True,\n",
       "              '__module__': '__main__',\n",
       "              '__dict__': <attribute '__dict__' of 'User' objects>,\n",
       "              '__weakref__': <attribute '__weakref__' of 'User' objects>,\n",
       "              '__doc__': None})"
      ]
     },
     "execution_count": 125,
     "metadata": {},
     "output_type": "execute_result"
    }
   ],
   "source": [
    "User2 = type(\"User\", (), {'id':1, 'name':'john', 'is_active':True})\n",
    "User2.__dict__"
   ]
  },
  {
   "cell_type": "markdown",
   "metadata": {},
   "source": [
    "#### Custom Metaclass"
   ]
  },
  {
   "cell_type": "code",
   "execution_count": 126,
   "metadata": {},
   "outputs": [],
   "source": [
    "class MyMetaClass(type):\n",
    "    def __new__(metacls, class_name, base_classes, attributes):\n",
    "        print(f\"{class_name} has attributes {attributes}\")\n",
    "        print(attributes)\n",
    "        return super().__new__(metacls, class_name, base_classes, attributes)"
   ]
  },
  {
   "cell_type": "code",
   "execution_count": 127,
   "metadata": {},
   "outputs": [
    {
     "name": "stdout",
     "output_type": "stream",
     "text": [
      "User3 has attributes {'__module__': '__main__', '__qualname__': 'User3', 'id': 2, 'name': 'john', 'is_active': True}\n",
      "{'__module__': '__main__', '__qualname__': 'User3', 'id': 2, 'name': 'john', 'is_active': True}\n"
     ]
    }
   ],
   "source": [
    "class User3(metaclass=MyMetaClass):\n",
    "    id=2\n",
    "    name=\"john\"\n",
    "    is_active=True"
   ]
  },
  {
   "cell_type": "markdown",
   "metadata": {},
   "source": [
    "### Do you remember descriptors?\n",
    "### We want to validate data as it is 'set'"
   ]
  },
  {
   "cell_type": "code",
   "execution_count": 128,
   "metadata": {},
   "outputs": [],
   "source": [
    "class Descriptor:\n",
    "    registry = {}\n",
    "    def __init__(self, name, data_type):\n",
    "        self.name = name\n",
    "        self.data = data_type()\n",
    "        self.data_type = data_type\n",
    "    def __get__(self, instance, cls):\n",
    "        return self.data\n",
    "    def __set__(self, instance, value):\n",
    "        ## we want to validate data as it is set\n",
    "        self.data = value\n",
    "\n",
    "class MyMetaClass(type):\n",
    "    def __new__(metacls, class_name, base_classes, attributes):\n",
    "        annotations = attributes.get('__annotations__',{})\n",
    "        for name, data_type in annotations.items():\n",
    "            attributes[name] = Descriptor(name=name, data_type=data_type)\n",
    "        return super().__new__(metacls, class_name, base_classes, attributes)\n",
    "    \n",
    "class User3(metaclass=MyMetaClass):\n",
    "    id:int\n",
    "    name:str\n",
    "    is_active:bool"
   ]
  },
  {
   "cell_type": "code",
   "execution_count": 129,
   "metadata": {},
   "outputs": [
    {
     "data": {
      "text/plain": [
       "mappingproxy({'__module__': '__main__',\n",
       "              '__annotations__': {'id': int, 'name': str, 'is_active': bool},\n",
       "              'id': <__main__.Descriptor at 0x108c531d0>,\n",
       "              'name': <__main__.Descriptor at 0x108c53278>,\n",
       "              'is_active': <__main__.Descriptor at 0x108c53208>,\n",
       "              '__dict__': <attribute '__dict__' of 'User3' objects>,\n",
       "              '__weakref__': <attribute '__weakref__' of 'User3' objects>,\n",
       "              '__doc__': None})"
      ]
     },
     "execution_count": 129,
     "metadata": {},
     "output_type": "execute_result"
    }
   ],
   "source": [
    "User3.__dict__"
   ]
  },
  {
   "cell_type": "code",
   "execution_count": 130,
   "metadata": {},
   "outputs": [],
   "source": [
    "user = User3()\n",
    "user.name = \"john\"\n",
    "user.id = 3\n",
    "user.is_active = True"
   ]
  },
  {
   "cell_type": "code",
   "execution_count": 131,
   "metadata": {},
   "outputs": [
    {
     "data": {
      "text/plain": [
       "'john'"
      ]
     },
     "execution_count": 131,
     "metadata": {},
     "output_type": "execute_result"
    }
   ],
   "source": [
    "user.name"
   ]
  },
  {
   "cell_type": "code",
   "execution_count": 132,
   "metadata": {},
   "outputs": [
    {
     "data": {
      "text/plain": [
       "3"
      ]
     },
     "execution_count": 132,
     "metadata": {},
     "output_type": "execute_result"
    }
   ],
   "source": [
    "user.id"
   ]
  },
  {
   "cell_type": "code",
   "execution_count": 133,
   "metadata": {},
   "outputs": [
    {
     "data": {
      "text/plain": [
       "True"
      ]
     },
     "execution_count": 133,
     "metadata": {},
     "output_type": "execute_result"
    }
   ],
   "source": [
    "user.is_active"
   ]
  },
  {
   "cell_type": "markdown",
   "metadata": {},
   "source": [
    "### Let's validate!"
   ]
  },
  {
   "cell_type": "code",
   "execution_count": 134,
   "metadata": {},
   "outputs": [],
   "source": [
    "class Descriptor:\n",
    "    registry = {}\n",
    "    def __init__(self, name, data_type):\n",
    "        self.name = name\n",
    "        self.data = data_type()\n",
    "        self.data_type = data_type\n",
    "    def __get__(self, instance, cls):\n",
    "        return self.data\n",
    "    def __set__(self, instance, value):\n",
    "        if isinstance(value, self.data_type):\n",
    "            self.data = value\n",
    "        else:\n",
    "            raise Exception(f\"{instance}.{self.name} is of type {self.data_type}, {value} of {type(value)} is given\")\n",
    "\n",
    "class MyMetaClass(type):\n",
    "    def __new__(metacls, class_name, base_classes, attributes):\n",
    "        annotations = attributes.get('__annotations__',{})\n",
    "        for name, data_type in annotations.items():\n",
    "            attributes[name] = Descriptor(name=name, data_type=data_type)\n",
    "        return super().__new__(metacls, class_name, base_classes, attributes)\n",
    "    \n",
    "class User4(metaclass=MyMetaClass):\n",
    "    id:int\n",
    "    name:str\n",
    "    is_active:bool      \n"
   ]
  },
  {
   "cell_type": "code",
   "execution_count": 135,
   "metadata": {},
   "outputs": [
    {
     "ename": "Exception",
     "evalue": "<__main__.User4 object at 0x108c53940>.name is of type <class 'str'>, 123 of <class 'int'> is given",
     "output_type": "error",
     "traceback": [
      "\u001b[0;31m---------------------------------------------------------------------------\u001b[0m",
      "\u001b[0;31mException\u001b[0m                                 Traceback (most recent call last)",
      "\u001b[0;32m<ipython-input-135-c0b3622b4603>\u001b[0m in \u001b[0;36m<module>\u001b[0;34m\u001b[0m\n\u001b[1;32m      1\u001b[0m \u001b[0muser\u001b[0m \u001b[0;34m=\u001b[0m \u001b[0mUser4\u001b[0m\u001b[0;34m(\u001b[0m\u001b[0;34m)\u001b[0m\u001b[0;34m\u001b[0m\u001b[0;34m\u001b[0m\u001b[0m\n\u001b[0;32m----> 2\u001b[0;31m \u001b[0muser\u001b[0m\u001b[0;34m.\u001b[0m\u001b[0mname\u001b[0m \u001b[0;34m=\u001b[0m \u001b[0;36m123\u001b[0m\u001b[0;34m\u001b[0m\u001b[0;34m\u001b[0m\u001b[0m\n\u001b[0m",
      "\u001b[0;32m<ipython-input-134-7c9f3798c444>\u001b[0m in \u001b[0;36m__set__\u001b[0;34m(self, instance, value)\u001b[0m\n\u001b[1;32m     11\u001b[0m             \u001b[0mself\u001b[0m\u001b[0;34m.\u001b[0m\u001b[0mdata\u001b[0m \u001b[0;34m=\u001b[0m \u001b[0mvalue\u001b[0m\u001b[0;34m\u001b[0m\u001b[0;34m\u001b[0m\u001b[0m\n\u001b[1;32m     12\u001b[0m         \u001b[0;32melse\u001b[0m\u001b[0;34m:\u001b[0m\u001b[0;34m\u001b[0m\u001b[0;34m\u001b[0m\u001b[0m\n\u001b[0;32m---> 13\u001b[0;31m             \u001b[0;32mraise\u001b[0m \u001b[0mException\u001b[0m\u001b[0;34m(\u001b[0m\u001b[0;34mf\"{instance}.{self.name} is of type {self.data_type}, {value} of {type(value)} is given\"\u001b[0m\u001b[0;34m)\u001b[0m\u001b[0;34m\u001b[0m\u001b[0;34m\u001b[0m\u001b[0m\n\u001b[0m\u001b[1;32m     14\u001b[0m \u001b[0;34m\u001b[0m\u001b[0m\n\u001b[1;32m     15\u001b[0m \u001b[0;32mclass\u001b[0m \u001b[0mMyMetaClass\u001b[0m\u001b[0;34m(\u001b[0m\u001b[0mtype\u001b[0m\u001b[0;34m)\u001b[0m\u001b[0;34m:\u001b[0m\u001b[0;34m\u001b[0m\u001b[0;34m\u001b[0m\u001b[0m\n",
      "\u001b[0;31mException\u001b[0m: <__main__.User4 object at 0x108c53940>.name is of type <class 'str'>, 123 of <class 'int'> is given"
     ]
    }
   ],
   "source": [
    "user = User4()\n",
    "user.name = 123"
   ]
  },
  {
   "cell_type": "markdown",
   "metadata": {},
   "source": [
    "### Final touch: the init"
   ]
  },
  {
   "cell_type": "code",
   "execution_count": 136,
   "metadata": {},
   "outputs": [],
   "source": [
    "class Descriptor:\n",
    "    registry = {}\n",
    "    def __init__(self, name, data_type):\n",
    "        self.name = name\n",
    "        self.data = data_type()\n",
    "        self.data_type = data_type\n",
    "    def __get__(self, instance, cls):\n",
    "        return self.data\n",
    "    def __set__(self, instance, value):\n",
    "        if isinstance(value, self.data_type):\n",
    "            self.data = value\n",
    "        else:\n",
    "            raise Exception(f\"{instance}.{self.name} is of type {self.data_type}, {value} of {type(value)} is given\")\n",
    "\n",
    "class MyMetaClass(type):\n",
    "    def __new__(metacls, class_name, base_classes, attributes):\n",
    "        annotations = attributes.get('__annotations__',{})\n",
    "        for name, data_type in annotations.items():\n",
    "            attributes[name] = Descriptor(name=name, data_type=data_type)\n",
    "        return super().__new__(metacls, class_name, base_classes, attributes)\n",
    "class Base(metaclass=MyMetaClass):\n",
    "    def __init__(self, **kwargs):\n",
    "        for key, value in kwargs.items():\n",
    "            setattr(self, key, value)\n",
    "class User5(Base):\n",
    "    id:int\n",
    "    name:str\n",
    "    is_active:bool "
   ]
  },
  {
   "cell_type": "code",
   "execution_count": 137,
   "metadata": {},
   "outputs": [],
   "source": [
    "user = User5(id=1,name=\"john\", is_active=True)"
   ]
  },
  {
   "cell_type": "code",
   "execution_count": 138,
   "metadata": {},
   "outputs": [
    {
     "name": "stdout",
     "output_type": "stream",
     "text": [
      "1\n",
      "john\n",
      "True\n"
     ]
    }
   ],
   "source": [
    "print(user.id)\n",
    "print(user.name)\n",
    "print(user.is_active)"
   ]
  },
  {
   "cell_type": "code",
   "execution_count": 139,
   "metadata": {},
   "outputs": [
    {
     "ename": "Exception",
     "evalue": "<__main__.User5 object at 0x108c53978>.name is of type <class 'str'>, 123 of <class 'int'> is given",
     "output_type": "error",
     "traceback": [
      "\u001b[0;31m---------------------------------------------------------------------------\u001b[0m",
      "\u001b[0;31mException\u001b[0m                                 Traceback (most recent call last)",
      "\u001b[0;32m<ipython-input-139-dc191cb32675>\u001b[0m in \u001b[0;36m<module>\u001b[0;34m\u001b[0m\n\u001b[0;32m----> 1\u001b[0;31m \u001b[0muser\u001b[0m \u001b[0;34m=\u001b[0m \u001b[0mUser5\u001b[0m\u001b[0;34m(\u001b[0m\u001b[0mid\u001b[0m\u001b[0;34m=\u001b[0m\u001b[0;36m1\u001b[0m\u001b[0;34m,\u001b[0m\u001b[0mname\u001b[0m\u001b[0;34m=\u001b[0m\u001b[0;36m123\u001b[0m\u001b[0;34m,\u001b[0m \u001b[0mis_active\u001b[0m\u001b[0;34m=\u001b[0m\u001b[0;32mTrue\u001b[0m\u001b[0;34m)\u001b[0m\u001b[0;34m\u001b[0m\u001b[0;34m\u001b[0m\u001b[0m\n\u001b[0m",
      "\u001b[0;32m<ipython-input-136-b54b52f797eb>\u001b[0m in \u001b[0;36m__init__\u001b[0;34m(self, **kwargs)\u001b[0m\n\u001b[1;32m     22\u001b[0m     \u001b[0;32mdef\u001b[0m \u001b[0m__init__\u001b[0m\u001b[0;34m(\u001b[0m\u001b[0mself\u001b[0m\u001b[0;34m,\u001b[0m \u001b[0;34m**\u001b[0m\u001b[0mkwargs\u001b[0m\u001b[0;34m)\u001b[0m\u001b[0;34m:\u001b[0m\u001b[0;34m\u001b[0m\u001b[0;34m\u001b[0m\u001b[0m\n\u001b[1;32m     23\u001b[0m         \u001b[0;32mfor\u001b[0m \u001b[0mkey\u001b[0m\u001b[0;34m,\u001b[0m \u001b[0mvalue\u001b[0m \u001b[0;32min\u001b[0m \u001b[0mkwargs\u001b[0m\u001b[0;34m.\u001b[0m\u001b[0mitems\u001b[0m\u001b[0;34m(\u001b[0m\u001b[0;34m)\u001b[0m\u001b[0;34m:\u001b[0m\u001b[0;34m\u001b[0m\u001b[0;34m\u001b[0m\u001b[0m\n\u001b[0;32m---> 24\u001b[0;31m             \u001b[0msetattr\u001b[0m\u001b[0;34m(\u001b[0m\u001b[0mself\u001b[0m\u001b[0;34m,\u001b[0m \u001b[0mkey\u001b[0m\u001b[0;34m,\u001b[0m \u001b[0mvalue\u001b[0m\u001b[0;34m)\u001b[0m\u001b[0;34m\u001b[0m\u001b[0;34m\u001b[0m\u001b[0m\n\u001b[0m\u001b[1;32m     25\u001b[0m \u001b[0;32mclass\u001b[0m \u001b[0mUser5\u001b[0m\u001b[0;34m(\u001b[0m\u001b[0mBase\u001b[0m\u001b[0;34m)\u001b[0m\u001b[0;34m:\u001b[0m\u001b[0;34m\u001b[0m\u001b[0;34m\u001b[0m\u001b[0m\n\u001b[1;32m     26\u001b[0m     \u001b[0mid\u001b[0m\u001b[0;34m:\u001b[0m\u001b[0mint\u001b[0m\u001b[0;34m\u001b[0m\u001b[0;34m\u001b[0m\u001b[0m\n",
      "\u001b[0;32m<ipython-input-136-b54b52f797eb>\u001b[0m in \u001b[0;36m__set__\u001b[0;34m(self, instance, value)\u001b[0m\n\u001b[1;32m     11\u001b[0m             \u001b[0mself\u001b[0m\u001b[0;34m.\u001b[0m\u001b[0mdata\u001b[0m \u001b[0;34m=\u001b[0m \u001b[0mvalue\u001b[0m\u001b[0;34m\u001b[0m\u001b[0;34m\u001b[0m\u001b[0m\n\u001b[1;32m     12\u001b[0m         \u001b[0;32melse\u001b[0m\u001b[0;34m:\u001b[0m\u001b[0;34m\u001b[0m\u001b[0;34m\u001b[0m\u001b[0m\n\u001b[0;32m---> 13\u001b[0;31m             \u001b[0;32mraise\u001b[0m \u001b[0mException\u001b[0m\u001b[0;34m(\u001b[0m\u001b[0;34mf\"{instance}.{self.name} is of type {self.data_type}, {value} of {type(value)} is given\"\u001b[0m\u001b[0;34m)\u001b[0m\u001b[0;34m\u001b[0m\u001b[0;34m\u001b[0m\u001b[0m\n\u001b[0m\u001b[1;32m     14\u001b[0m \u001b[0;34m\u001b[0m\u001b[0m\n\u001b[1;32m     15\u001b[0m \u001b[0;32mclass\u001b[0m \u001b[0mMyMetaClass\u001b[0m\u001b[0;34m(\u001b[0m\u001b[0mtype\u001b[0m\u001b[0;34m)\u001b[0m\u001b[0;34m:\u001b[0m\u001b[0;34m\u001b[0m\u001b[0;34m\u001b[0m\u001b[0m\n",
      "\u001b[0;31mException\u001b[0m: <__main__.User5 object at 0x108c53978>.name is of type <class 'str'>, 123 of <class 'int'> is given"
     ]
    }
   ],
   "source": [
    "user = User5(id=1,name=123, is_active=True)"
   ]
  },
  {
   "cell_type": "code",
   "execution_count": null,
   "metadata": {},
   "outputs": [],
   "source": []
  },
  {
   "cell_type": "markdown",
   "metadata": {},
   "source": [
    "### Your turn! Could you make the code work?\n",
    "```python\n",
    "class InternalUser(Base):\n",
    "    first_name = Column(str)\n",
    "    last_name = Column(str)\n",
    "    is_active = Column(bool)\n",
    "\n",
    "user = InternalUser(first_name=\"john\", last_name=\"peter\", is_active = True)\n",
    "print(user.first_name)\n",
    "# john\n",
    "print(user.last_name)\n",
    "# peter\n",
    "print(user.is_active)\n",
    "# True\n",
    "user.is_active = False\n",
    "print(user.is_active)\n",
    "# False\n",
    "```"
   ]
  },
  {
   "cell_type": "code",
   "execution_count": null,
   "metadata": {},
   "outputs": [],
   "source": [
    "class Column:\n",
    "    pass\n"
   ]
  },
  {
   "cell_type": "markdown",
   "metadata": {},
   "source": [
    "#  \n",
    "#  \n",
    "#  \n",
    "#  \n",
    "#  \n",
    "#  \n",
    "#  \n",
    "#  \n",
    "#  \n",
    "#  \n",
    "#  \n",
    "#  \n",
    "#  \n",
    "#  \n",
    "#  \n",
    "#  \n",
    "#  \n",
    "#  \n",
    "#  \n",
    "#  \n",
    "#  \n",
    "#  \n",
    "#  \n",
    "#  \n",
    "#  \n",
    "#  \n",
    "#  \n",
    "#  \n"
   ]
  },
  {
   "cell_type": "markdown",
   "metadata": {},
   "source": [
    "# Solution"
   ]
  },
  {
   "cell_type": "code",
   "execution_count": 140,
   "metadata": {},
   "outputs": [],
   "source": [
    "class Column:\n",
    "    def __init__(self, data_type):\n",
    "        self.name = None\n",
    "        self.data = data_type()\n",
    "        self.data_type = data_type\n",
    "    def __get__(self, instance, cls):\n",
    "        return self.data\n",
    "    def __set__(self, instance, value):\n",
    "        if isinstance(value, self.data_type):\n",
    "            self.data = value\n",
    "        else:\n",
    "            raise Exception(f\"{instance}.{self.name} is of type {self.data_type}, {value} of {type(value)} is given\")\n",
    "class MyMetaClass(type):\n",
    "    def __new__(metacls, class_name, base_classes, attributes):\n",
    "        for attribute_name, attribute in attributes.items():\n",
    "            if isinstance(attribute, Column):\n",
    "                attribute.name = attribute_name\n",
    "        return super().__new__(metacls, class_name, base_classes, attributes)\n",
    "    \n",
    "class Base(metaclass=MyMetaClass):\n",
    "    def __init__(self, **kwargs):\n",
    "        for key, value in kwargs.items():\n",
    "            setattr(self, key, value)\n",
    "\n",
    "class InternalUser(Base):\n",
    "    first_name = Column(str)\n",
    "    last_name = Column(str)\n",
    "    is_active = Column(bool)"
   ]
  },
  {
   "cell_type": "code",
   "execution_count": 141,
   "metadata": {},
   "outputs": [
    {
     "name": "stdout",
     "output_type": "stream",
     "text": [
      "john\n",
      "peter\n",
      "True\n",
      "False\n"
     ]
    }
   ],
   "source": [
    "user = InternalUser(first_name=\"john\", last_name=\"peter\", is_active = True)\n",
    "print(user.first_name)\n",
    "# john\n",
    "print(user.last_name)\n",
    "# peter\n",
    "print(user.is_active)\n",
    "# True\n",
    "user.is_active = False\n",
    "print(user.is_active)"
   ]
  }
 ],
 "metadata": {
  "kernelspec": {
   "display_name": "Python 3",
   "language": "python",
   "name": "python3"
  },
  "language_info": {
   "codemirror_mode": {
    "name": "ipython",
    "version": 3
   },
   "file_extension": ".py",
   "mimetype": "text/x-python",
   "name": "python",
   "nbconvert_exporter": "python",
   "pygments_lexer": "ipython3",
   "version": "3.7.2"
  }
 },
 "nbformat": 4,
 "nbformat_minor": 4
}
